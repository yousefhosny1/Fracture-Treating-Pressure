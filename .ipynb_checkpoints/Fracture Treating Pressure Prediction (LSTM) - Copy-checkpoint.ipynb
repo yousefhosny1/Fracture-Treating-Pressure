{
 "cells": [
  {
   "cell_type": "markdown",
   "metadata": {},
   "source": [
    "### Data Description\n",
    "\n",
    "The dataset has 4 main columns\n",
    "\n",
    "1. Time in seconds\n",
    "2. Slurry rate (bpm, barrels per minute)\n",
    "3. Proppant concentration (ppg, pounds per gallon)\n",
    "4. Treating pressure (PSI)"
   ]
  },
  {
   "cell_type": "markdown",
   "metadata": {},
   "source": [
    "### Objectives\n",
    "\n",
    "Build an LSTM Model to use the last 60 seconds of slurry rate and proppant concentration data to predict treatment pressure for the next second, for example the first 60 seconds of data will be used to predict the next second (61st) and so on."
   ]
  },
  {
   "cell_type": "code",
   "execution_count": 1,
   "metadata": {},
   "outputs": [],
   "source": [
    "import numpy as np\n",
    "import pandas as pd\n",
    "import matplotlib.pyplot as plt\n",
    "from sklearn.preprocessing import MinMaxScaler\n",
    "%matplotlib inline"
   ]
  },
  {
   "cell_type": "code",
   "execution_count": 2,
   "metadata": {},
   "outputs": [],
   "source": [
    "## Time series data\n",
    "tsdata = pd.read_excel('STP.xlsx')"
   ]
  },
  {
   "cell_type": "code",
   "execution_count": 3,
   "metadata": {},
   "outputs": [],
   "source": [
    "data = tsdata.drop(['Time'], axis = 1)"
   ]
  },
  {
   "cell_type": "code",
   "execution_count": 4,
   "metadata": {},
   "outputs": [
    {
     "data": {
      "text/html": [
       "<div>\n",
       "<style scoped>\n",
       "    .dataframe tbody tr th:only-of-type {\n",
       "        vertical-align: middle;\n",
       "    }\n",
       "\n",
       "    .dataframe tbody tr th {\n",
       "        vertical-align: top;\n",
       "    }\n",
       "\n",
       "    .dataframe thead th {\n",
       "        text-align: right;\n",
       "    }\n",
       "</style>\n",
       "<table border=\"1\" class=\"dataframe\">\n",
       "  <thead>\n",
       "    <tr style=\"text-align: right;\">\n",
       "      <th></th>\n",
       "      <th>SLUR RATE</th>\n",
       "      <th>PROP CON</th>\n",
       "      <th>TR PRESS</th>\n",
       "    </tr>\n",
       "  </thead>\n",
       "  <tbody>\n",
       "    <tr>\n",
       "      <th>0</th>\n",
       "      <td>64.4</td>\n",
       "      <td>0.0</td>\n",
       "      <td>7913.0</td>\n",
       "    </tr>\n",
       "    <tr>\n",
       "      <th>1</th>\n",
       "      <td>64.8</td>\n",
       "      <td>0.0</td>\n",
       "      <td>8000.0</td>\n",
       "    </tr>\n",
       "    <tr>\n",
       "      <th>2</th>\n",
       "      <td>65.2</td>\n",
       "      <td>0.0</td>\n",
       "      <td>8049.0</td>\n",
       "    </tr>\n",
       "    <tr>\n",
       "      <th>3</th>\n",
       "      <td>65.7</td>\n",
       "      <td>0.0</td>\n",
       "      <td>8081.0</td>\n",
       "    </tr>\n",
       "    <tr>\n",
       "      <th>4</th>\n",
       "      <td>66.4</td>\n",
       "      <td>0.0</td>\n",
       "      <td>8132.0</td>\n",
       "    </tr>\n",
       "  </tbody>\n",
       "</table>\n",
       "</div>"
      ],
      "text/plain": [
       "   SLUR RATE  PROP CON  TR PRESS\n",
       "0       64.4       0.0    7913.0\n",
       "1       64.8       0.0    8000.0\n",
       "2       65.2       0.0    8049.0\n",
       "3       65.7       0.0    8081.0\n",
       "4       66.4       0.0    8132.0"
      ]
     },
     "execution_count": 4,
     "metadata": {},
     "output_type": "execute_result"
    }
   ],
   "source": [
    "data.head()"
   ]
  },
  {
   "cell_type": "code",
   "execution_count": 5,
   "metadata": {},
   "outputs": [
    {
     "data": {
      "text/html": [
       "<div>\n",
       "<style scoped>\n",
       "    .dataframe tbody tr th:only-of-type {\n",
       "        vertical-align: middle;\n",
       "    }\n",
       "\n",
       "    .dataframe tbody tr th {\n",
       "        vertical-align: top;\n",
       "    }\n",
       "\n",
       "    .dataframe thead th {\n",
       "        text-align: right;\n",
       "    }\n",
       "</style>\n",
       "<table border=\"1\" class=\"dataframe\">\n",
       "  <thead>\n",
       "    <tr style=\"text-align: right;\">\n",
       "      <th></th>\n",
       "      <th>SLUR RATE</th>\n",
       "      <th>PROP CON</th>\n",
       "      <th>TR PRESS</th>\n",
       "    </tr>\n",
       "  </thead>\n",
       "  <tbody>\n",
       "    <tr>\n",
       "      <th>count</th>\n",
       "      <td>4752.000000</td>\n",
       "      <td>4752.000000</td>\n",
       "      <td>4588.000000</td>\n",
       "    </tr>\n",
       "    <tr>\n",
       "      <th>mean</th>\n",
       "      <td>99.710795</td>\n",
       "      <td>1.422033</td>\n",
       "      <td>8142.469922</td>\n",
       "    </tr>\n",
       "    <tr>\n",
       "      <th>std</th>\n",
       "      <td>3.308136</td>\n",
       "      <td>0.703032</td>\n",
       "      <td>85.671249</td>\n",
       "    </tr>\n",
       "    <tr>\n",
       "      <th>min</th>\n",
       "      <td>64.400000</td>\n",
       "      <td>0.000000</td>\n",
       "      <td>7913.000000</td>\n",
       "    </tr>\n",
       "    <tr>\n",
       "      <th>25%</th>\n",
       "      <td>99.900000</td>\n",
       "      <td>1.000000</td>\n",
       "      <td>8088.000000</td>\n",
       "    </tr>\n",
       "    <tr>\n",
       "      <th>50%</th>\n",
       "      <td>100.300000</td>\n",
       "      <td>1.500000</td>\n",
       "      <td>8116.000000</td>\n",
       "    </tr>\n",
       "    <tr>\n",
       "      <th>75%</th>\n",
       "      <td>100.700000</td>\n",
       "      <td>2.000000</td>\n",
       "      <td>8193.000000</td>\n",
       "    </tr>\n",
       "    <tr>\n",
       "      <th>max</th>\n",
       "      <td>101.600000</td>\n",
       "      <td>3.500000</td>\n",
       "      <td>8708.000000</td>\n",
       "    </tr>\n",
       "  </tbody>\n",
       "</table>\n",
       "</div>"
      ],
      "text/plain": [
       "         SLUR RATE     PROP CON     TR PRESS\n",
       "count  4752.000000  4752.000000  4588.000000\n",
       "mean     99.710795     1.422033  8142.469922\n",
       "std       3.308136     0.703032    85.671249\n",
       "min      64.400000     0.000000  7913.000000\n",
       "25%      99.900000     1.000000  8088.000000\n",
       "50%     100.300000     1.500000  8116.000000\n",
       "75%     100.700000     2.000000  8193.000000\n",
       "max     101.600000     3.500000  8708.000000"
      ]
     },
     "execution_count": 5,
     "metadata": {},
     "output_type": "execute_result"
    }
   ],
   "source": [
    "data.describe()"
   ]
  },
  {
   "cell_type": "markdown",
   "metadata": {},
   "source": [
    "### Handling Missing Data"
   ]
  },
  {
   "cell_type": "code",
   "execution_count": 6,
   "metadata": {},
   "outputs": [
    {
     "name": "stdout",
     "output_type": "stream",
     "text": [
      "TR PRESS    164\n",
      "dtype: int64\n"
     ]
    }
   ],
   "source": [
    "## Checking which column has missing values\n",
    "\n",
    "missingdata_df = data.columns[data.isnull().any()].tolist()\n",
    "missing_val_count_by_column = data.isnull().sum()\n",
    "\n",
    "print(missing_val_count_by_column[missing_val_count_by_column>0])"
   ]
  },
  {
   "cell_type": "code",
   "execution_count": 7,
   "metadata": {},
   "outputs": [
    {
     "data": {
      "text/plain": [
       "Index(['SLUR RATE', 'PROP CON', 'TR PRESS'], dtype='object')"
      ]
     },
     "execution_count": 7,
     "metadata": {},
     "output_type": "execute_result"
    }
   ],
   "source": [
    "data.columns"
   ]
  },
  {
   "cell_type": "code",
   "execution_count": 8,
   "metadata": {},
   "outputs": [],
   "source": [
    "## Standarizing the data\n",
    "\n",
    "from sklearn.preprocessing import StandardScaler\n",
    "\n",
    "scale = StandardScaler()\n",
    "scale.fit(data)\n",
    "data_scaled = scale.transform(data)\n",
    "data_scaled = pd.DataFrame(data_scaled, columns=['SLUR RATE', 'PROP CON', 'TR PRESS'])"
   ]
  },
  {
   "cell_type": "code",
   "execution_count": 9,
   "metadata": {},
   "outputs": [
    {
     "name": "stdout",
     "output_type": "stream",
     "text": [
      "Imputing row 1/4752 with 0 missing, elapsed time: 1.694\n",
      "Imputing row 101/4752 with 0 missing, elapsed time: 1.694\n",
      "Imputing row 201/4752 with 0 missing, elapsed time: 1.694\n",
      "Imputing row 301/4752 with 0 missing, elapsed time: 1.696\n",
      "Imputing row 401/4752 with 0 missing, elapsed time: 1.696\n",
      "Imputing row 501/4752 with 0 missing, elapsed time: 1.696\n",
      "Imputing row 601/4752 with 0 missing, elapsed time: 1.696\n",
      "Imputing row 701/4752 with 0 missing, elapsed time: 1.696\n",
      "Imputing row 801/4752 with 0 missing, elapsed time: 1.697\n",
      "Imputing row 901/4752 with 0 missing, elapsed time: 1.697\n",
      "Imputing row 1001/4752 with 0 missing, elapsed time: 1.697\n",
      "Imputing row 1101/4752 with 0 missing, elapsed time: 1.697\n",
      "Imputing row 1201/4752 with 0 missing, elapsed time: 1.697\n",
      "Imputing row 1301/4752 with 0 missing, elapsed time: 1.698\n",
      "Imputing row 1401/4752 with 0 missing, elapsed time: 1.698\n",
      "Imputing row 1501/4752 with 0 missing, elapsed time: 1.698\n",
      "Imputing row 1601/4752 with 0 missing, elapsed time: 1.698\n",
      "Imputing row 1701/4752 with 0 missing, elapsed time: 1.698\n",
      "Imputing row 1801/4752 with 0 missing, elapsed time: 1.698\n",
      "Imputing row 1901/4752 with 0 missing, elapsed time: 1.699\n",
      "Imputing row 2001/4752 with 0 missing, elapsed time: 1.699\n",
      "Imputing row 2101/4752 with 1 missing, elapsed time: 1.700\n",
      "Imputing row 2201/4752 with 0 missing, elapsed time: 1.702\n",
      "Imputing row 2301/4752 with 0 missing, elapsed time: 1.702\n",
      "Imputing row 2401/4752 with 0 missing, elapsed time: 1.703\n",
      "Imputing row 2501/4752 with 0 missing, elapsed time: 1.703\n",
      "Imputing row 2601/4752 with 0 missing, elapsed time: 1.703\n",
      "Imputing row 2701/4752 with 0 missing, elapsed time: 1.704\n",
      "Imputing row 2801/4752 with 0 missing, elapsed time: 1.704\n",
      "Imputing row 2901/4752 with 0 missing, elapsed time: 1.704\n",
      "Imputing row 3001/4752 with 0 missing, elapsed time: 1.704\n",
      "Imputing row 3101/4752 with 0 missing, elapsed time: 1.705\n",
      "Imputing row 3201/4752 with 0 missing, elapsed time: 1.705\n",
      "Imputing row 3301/4752 with 0 missing, elapsed time: 1.705\n",
      "Imputing row 3401/4752 with 0 missing, elapsed time: 1.706\n",
      "Imputing row 3501/4752 with 0 missing, elapsed time: 1.706\n",
      "Imputing row 3601/4752 with 0 missing, elapsed time: 1.706\n",
      "Imputing row 3701/4752 with 0 missing, elapsed time: 1.706\n",
      "Imputing row 3801/4752 with 0 missing, elapsed time: 1.706\n",
      "Imputing row 3901/4752 with 0 missing, elapsed time: 1.707\n",
      "Imputing row 4001/4752 with 0 missing, elapsed time: 1.707\n",
      "Imputing row 4101/4752 with 0 missing, elapsed time: 1.707\n",
      "Imputing row 4201/4752 with 0 missing, elapsed time: 1.707\n",
      "Imputing row 4301/4752 with 0 missing, elapsed time: 1.707\n",
      "Imputing row 4401/4752 with 0 missing, elapsed time: 1.708\n",
      "Imputing row 4501/4752 with 0 missing, elapsed time: 1.708\n",
      "Imputing row 4601/4752 with 0 missing, elapsed time: 1.708\n",
      "Imputing row 4701/4752 with 1 missing, elapsed time: 1.710\n"
     ]
    }
   ],
   "source": [
    "## Using KNN to impute missing values\n",
    "\n",
    "from fancyimpute import KNN\n",
    "X_filled = KNN(k=2).fit_transform(data_scaled)\n",
    "X_filled = pd.DataFrame(X_filled, columns=data.columns)"
   ]
  },
  {
   "cell_type": "code",
   "execution_count": 10,
   "metadata": {},
   "outputs": [],
   "source": [
    "## Returning the scaled data to the original data\n",
    "\n",
    "X_filled = scale.inverse_transform(X_filled)\n",
    "X_filled = pd.DataFrame(X_filled, columns = data.columns)"
   ]
  },
  {
   "cell_type": "code",
   "execution_count": 11,
   "metadata": {},
   "outputs": [],
   "source": [
    "## Saving the processed data (no missing values)\n",
    "\n",
    "X_filled.to_csv('STP_Processed.csv', index = False)"
   ]
  },
  {
   "cell_type": "code",
   "execution_count": 12,
   "metadata": {},
   "outputs": [],
   "source": [
    "## Importing the processed data\n",
    "\n",
    "data = pd.read_csv('STP_Processed.csv')\n",
    "data['Time'] = tsdata['Time']\n",
    "data = data[['Time', 'SLUR RATE', 'PROP CON', 'TR PRESS']]"
   ]
  },
  {
   "cell_type": "code",
   "execution_count": 13,
   "metadata": {},
   "outputs": [
    {
     "data": {
      "text/html": [
       "<div>\n",
       "<style scoped>\n",
       "    .dataframe tbody tr th:only-of-type {\n",
       "        vertical-align: middle;\n",
       "    }\n",
       "\n",
       "    .dataframe tbody tr th {\n",
       "        vertical-align: top;\n",
       "    }\n",
       "\n",
       "    .dataframe thead th {\n",
       "        text-align: right;\n",
       "    }\n",
       "</style>\n",
       "<table border=\"1\" class=\"dataframe\">\n",
       "  <thead>\n",
       "    <tr style=\"text-align: right;\">\n",
       "      <th></th>\n",
       "      <th>Time</th>\n",
       "      <th>SLUR RATE</th>\n",
       "      <th>PROP CON</th>\n",
       "      <th>TR PRESS</th>\n",
       "    </tr>\n",
       "  </thead>\n",
       "  <tbody>\n",
       "    <tr>\n",
       "      <th>0</th>\n",
       "      <td>1</td>\n",
       "      <td>64.4</td>\n",
       "      <td>0.0</td>\n",
       "      <td>7913.0</td>\n",
       "    </tr>\n",
       "    <tr>\n",
       "      <th>1</th>\n",
       "      <td>2</td>\n",
       "      <td>64.8</td>\n",
       "      <td>0.0</td>\n",
       "      <td>8000.0</td>\n",
       "    </tr>\n",
       "    <tr>\n",
       "      <th>2</th>\n",
       "      <td>3</td>\n",
       "      <td>65.2</td>\n",
       "      <td>0.0</td>\n",
       "      <td>8049.0</td>\n",
       "    </tr>\n",
       "    <tr>\n",
       "      <th>3</th>\n",
       "      <td>4</td>\n",
       "      <td>65.7</td>\n",
       "      <td>0.0</td>\n",
       "      <td>8081.0</td>\n",
       "    </tr>\n",
       "    <tr>\n",
       "      <th>4</th>\n",
       "      <td>5</td>\n",
       "      <td>66.4</td>\n",
       "      <td>0.0</td>\n",
       "      <td>8132.0</td>\n",
       "    </tr>\n",
       "  </tbody>\n",
       "</table>\n",
       "</div>"
      ],
      "text/plain": [
       "   Time  SLUR RATE  PROP CON  TR PRESS\n",
       "0     1       64.4       0.0    7913.0\n",
       "1     2       64.8       0.0    8000.0\n",
       "2     3       65.2       0.0    8049.0\n",
       "3     4       65.7       0.0    8081.0\n",
       "4     5       66.4       0.0    8132.0"
      ]
     },
     "execution_count": 13,
     "metadata": {},
     "output_type": "execute_result"
    }
   ],
   "source": [
    "data.head()"
   ]
  },
  {
   "cell_type": "markdown",
   "metadata": {},
   "source": [
    "### Plotting and Understanding"
   ]
  },
  {
   "cell_type": "code",
   "execution_count": 14,
   "metadata": {},
   "outputs": [
    {
     "data": {
      "text/plain": [
       "Text(0, 0.5, 'Slurry Rate (bpm)')"
      ]
     },
     "execution_count": 14,
     "metadata": {},
     "output_type": "execute_result"
    },
    {
     "data": {
      "image/png": "[encoded data removed]",
      "text/plain": [
       "<Figure size 1080x576 with 2 Axes>"
      ]
     },
     "metadata": {
      "needs_background": "light"
     },
     "output_type": "display_data"
    },
    {
     "data": {
      "text/plain": [
       "<Figure size 1080x576 with 0 Axes>"
      ]
     },
     "metadata": {},
     "output_type": "display_data"
    }
   ],
   "source": [
    "## Plotting the surface treating pressure and slurry rate\n",
    "\n",
    "_, ax1 = plt.subplots(figsize = (15, 8))\n",
    "plt.figure(figsize = (15, 8))\n",
    "ax2 = ax1.twinx()\n",
    "\n",
    "ax1.plot(data['Time'], data['TR PRESS'], 'b')\n",
    "ax2.plot(data['Time'], data['SLUR RATE'], 'g')\n",
    "ax1.set_xlabel('Time (seconds)')\n",
    "ax1.set_ylabel('Surface Treating Pressure (PSI)', color = 'b')\n",
    "ax2.set_ylabel('Slurry Rate (bpm)', color = 'g')"
   ]
  },
  {
   "cell_type": "markdown",
   "metadata": {},
   "source": [
    "### Creating the Training and Test data splits"
   ]
  },
  {
   "cell_type": "code",
   "execution_count": 15,
   "metadata": {},
   "outputs": [],
   "source": [
    "'''\n",
    "Creating the training and test splits:\n",
    "    First 4500s for Training\n",
    "    Second 252s for Testing\n",
    "'''\n",
    "\n",
    "## Creating the training split\n",
    "\n",
    "start_time = 1\n",
    "end_time = 4500\n",
    "\n",
    "filter = (data['Time'] > start_time) & (data['Time'] <= end_time)\n",
    "data_training = data.loc[filter].copy()\n",
    "\n",
    "\n",
    "## Creating the test split\n",
    "\n",
    "start_time2 = 4500\n",
    "end_time2 = 4752\n",
    "\n",
    "filter = (data['Time'] > start_time2) & (data['Time'] <= end_time2)\n",
    "data_testing = data.loc[filter].copy()"
   ]
  },
  {
   "cell_type": "code",
   "execution_count": 16,
   "metadata": {},
   "outputs": [],
   "source": [
    "training_data = data_training.drop(['Time'], axis = 1)\n",
    "\n",
    "\n",
    "past_60_secs = data_training.tail(60)\n",
    "X_test_unscaled = past_60_secs.append(data_testing, ignore_index = True)\n",
    "X_test_unscaled = X_test_unscaled.drop(['Time'], axis = 1)\n",
    "\n",
    "\n",
    "scaler = MinMaxScaler()\n",
    "training_data = scaler.fit_transform(training_data)\n",
    "testing_data = scaler.transform(X_test_unscaled)"
   ]
  },
  {
   "cell_type": "code",
   "execution_count": 17,
   "metadata": {},
   "outputs": [],
   "source": [
    "def train_data(window_size, data):\n",
    "    '''\n",
    "    This function takes the window size and that data(without time component)\n",
    "    \n",
    "    Returns the X_train and y_train\n",
    "    '''\n",
    "    \n",
    "    X_train, y_train = [], []\n",
    "    \n",
    "    for i in range(window_size, data.shape[0]):\n",
    "        X_train.append(data[i-window_size:i])\n",
    "        y_train.append(data[i, 0])\n",
    "    \n",
    "    return np.array(X_train), np.array(y_train)\n",
    "\n",
    "\n",
    "def test_data(window_size, data):\n",
    "    X_test, y_test = [], []\n",
    "    \n",
    "    for i in range(window_size, data.shape[0]):\n",
    "        X_test.append(data[i-window_size:i])\n",
    "        y_test.append(data[i, 0])\n",
    "    \n",
    "    return np.array(X_test), np.array(y_test)"
   ]
  },
  {
   "cell_type": "code",
   "execution_count": 18,
   "metadata": {},
   "outputs": [],
   "source": [
    "## Training and test datasets with 30s window size\n",
    "X_train_30s, y_train_30s = train_data(30, training_data)\n",
    "X_test_30s, y_test_30s = train_data(30, testing_data)\n",
    "\n",
    "\n",
    "## Training and test datasets with 60s window size\n",
    "X_train_60s, y_train_60s = train_data(60, training_data)\n",
    "X_test_60s, y_test_60s = train_data(60, testing_data)\n",
    "\n",
    "\n",
    "## Training and test datasets with 90s window size\n",
    "X_train_90s, y_train_90s = train_data(90, training_data)\n",
    "X_test_90s, y_test_90s = train_data(90, testing_data)\n",
    "\n",
    "\n",
    "## Training and test datasets with 180s window size\n",
    "X_train_180s, y_train_180s = train_data(180, training_data)\n",
    "X_test_180s, y_test_180s = train_data(180, testing_data)"
   ]
  },
  {
   "cell_type": "code",
   "execution_count": 19,
   "metadata": {},
   "outputs": [
    {
     "name": "stdout",
     "output_type": "stream",
     "text": [
      "(4469, 30, 3) (4469,)\n",
      "(4439, 60, 3) (4439,)\n",
      "(4409, 90, 3) (4409,)\n",
      "(4319, 180, 3) (4319,)\n"
     ]
    }
   ],
   "source": [
    "print(X_train_30s.shape, y_train_30s.shape)\n",
    "\n",
    "print(X_train_60s.shape, y_train_60s.shape)\n",
    "\n",
    "print(X_train_90s.shape, y_train_90s.shape)\n",
    "\n",
    "print(X_train_180s.shape, y_train_180s.shape)"
   ]
  },
  {
   "cell_type": "markdown",
   "metadata": {},
   "source": [
    "### LSTM Model"
   ]
  },
  {
   "cell_type": "code",
   "execution_count": 20,
   "metadata": {},
   "outputs": [],
   "source": [
    "from tensorflow.keras import Sequential\n",
    "from tensorflow.keras.layers import Dense, LSTM, Dropout\n",
    "import tensorflow as tf\n",
    "import random as python_random"
   ]
  },
  {
   "cell_type": "code",
   "execution_count": 21,
   "metadata": {},
   "outputs": [],
   "source": [
    "def reset_seeds():\n",
    "    np.random.seed(100)\n",
    "    python_random.seed(100)\n",
    "    tf.random.set_seed(100)\n",
    "reset_seeds()"
   ]
  },
  {
   "cell_type": "code",
   "execution_count": 23,
   "metadata": {},
   "outputs": [
    {
     "name": "stdout",
     "output_type": "stream",
     "text": [
      "Model: \"sequential_1\"\n",
      "_________________________________________________________________\n",
      "Layer (type)                 Output Shape              Param #   \n",
      "=================================================================\n",
      "lstm (LSTM)                  (None, 30, 200)           163200    \n",
      "_________________________________________________________________\n",
      "dropout (Dropout)            (None, 30, 200)           0         \n",
      "_________________________________________________________________\n",
      "lstm_1 (LSTM)                (None, 30, 200)           320800    \n",
      "_________________________________________________________________\n",
      "dropout_1 (Dropout)          (None, 30, 200)           0         \n",
      "_________________________________________________________________\n",
      "lstm_2 (LSTM)                (None, 200)               320800    \n",
      "_________________________________________________________________\n",
      "dropout_2 (Dropout)          (None, 200)               0         \n",
      "_________________________________________________________________\n",
      "dense (Dense)                (None, 1)                 201       \n",
      "=================================================================\n",
      "Total params: 805,001\n",
      "Trainable params: 805,001\n",
      "Non-trainable params: 0\n",
      "_________________________________________________________________\n"
     ]
    }
   ],
   "source": [
    "Frac_LSTM = Sequential()\n",
    "Frac_LSTM.add(LSTM(units = 200, activation = 'relu', return_sequences = True, input_shape = (X_train_30s.shape[1], 3)))\n",
    "Frac_LSTM.add(Dropout(0.3))\n",
    "Frac_LSTM.add(LSTM(units = 200, activation = 'relu', return_sequences = True))\n",
    "Frac_LSTM.add(Dropout(0.3))\n",
    "Frac_LSTM.add(LSTM(units = 200, activation = 'relu'))\n",
    "Frac_LSTM.add(Dropout(0.3))\n",
    "Frac_LSTM.add(Dense(units=1))\n",
    "\n",
    "Frac_LSTM.summary()"
   ]
  },
  {
   "cell_type": "code",
   "execution_count": 24,
   "metadata": {},
   "outputs": [],
   "source": [
    "Frac_LSTM.compile(optimizer='adam', loss='mean_squared_error')"
   ]
  },
  {
   "cell_type": "code",
   "execution_count": 25,
   "metadata": {},
   "outputs": [
    {
     "name": "stdout",
     "output_type": "stream",
     "text": [
      "Epoch 1/100\n",
      "140/140 [==============================] - 10s 52ms/step - loss: 0.0351\n",
      "Epoch 2/100\n",
      "140/140 [==============================] - 7s 52ms/step - loss: 0.0066\n",
      "Epoch 3/100\n",
      "140/140 [==============================] - 8s 57ms/step - loss: 0.0058\n",
      "Epoch 4/100\n",
      "140/140 [==============================] - 8s 58ms/step - loss: 0.0053\n",
      "Epoch 5/100\n",
      "140/140 [==============================] - 8s 58ms/step - loss: 0.0050\n",
      "Epoch 6/100\n",
      "140/140 [==============================] - 9s 61ms/step - loss: 0.0050\n",
      "Epoch 7/100\n",
      "140/140 [==============================] - 9s 65ms/step - loss: 0.0049\n",
      "Epoch 8/100\n",
      "140/140 [==============================] - 8s 58ms/step - loss: 0.0045\n",
      "Epoch 9/100\n",
      "140/140 [==============================] - 8s 58ms/step - loss: 0.0040\n",
      "Epoch 10/100\n",
      "140/140 [==============================] - 8s 57ms/step - loss: 0.0041\n",
      "Epoch 11/100\n",
      "140/140 [==============================] - 8s 58ms/step - loss: 0.0038\n",
      "Epoch 12/100\n",
      "140/140 [==============================] - 8s 59ms/step - loss: 0.0041: 0s - loss: \n",
      "Epoch 13/100\n",
      "140/140 [==============================] - 8s 59ms/step - loss: 0.0037\n",
      "Epoch 14/100\n",
      "140/140 [==============================] - 8s 60ms/step - loss: 0.0036\n",
      "Epoch 15/100\n",
      "140/140 [==============================] - 8s 58ms/step - loss: 0.0032\n",
      "Epoch 16/100\n",
      "140/140 [==============================] - 8s 58ms/step - loss: 0.0032\n",
      "Epoch 17/100\n",
      "140/140 [==============================] - 8s 59ms/step - loss: 0.0030\n",
      "Epoch 18/100\n",
      "140/140 [==============================] - 8s 59ms/step - loss: 0.0028\n",
      "Epoch 19/100\n",
      "140/140 [==============================] - 8s 59ms/step - loss: 0.0027\n",
      "Epoch 20/100\n",
      "140/140 [==============================] - 8s 60ms/step - loss: 0.0025\n",
      "Epoch 21/100\n",
      "140/140 [==============================] - 8s 60ms/step - loss: 0.0025\n",
      "Epoch 22/100\n",
      "140/140 [==============================] - 8s 60ms/step - loss: 0.0023\n",
      "Epoch 23/100\n",
      "140/140 [==============================] - 8s 59ms/step - loss: 0.0023\n",
      "Epoch 24/100\n",
      "140/140 [==============================] - 9s 63ms/step - loss: 0.0020\n",
      "Epoch 25/100\n",
      "140/140 [==============================] - 8s 60ms/step - loss: 0.0018\n",
      "Epoch 26/100\n",
      "140/140 [==============================] - 9s 62ms/step - loss: 0.0017\n",
      "Epoch 27/100\n",
      "140/140 [==============================] - 9s 62ms/step - loss: 0.0016\n",
      "Epoch 28/100\n",
      "140/140 [==============================] - 8s 60ms/step - loss: 0.0016\n",
      "Epoch 29/100\n",
      "140/140 [==============================] - 8s 61ms/step - loss: 0.0014\n",
      "Epoch 30/100\n",
      "140/140 [==============================] - 9s 61ms/step - loss: 0.0013\n",
      "Epoch 31/100\n",
      "140/140 [==============================] - 8s 60ms/step - loss: 0.0012\n",
      "Epoch 32/100\n",
      "140/140 [==============================] - 9s 61ms/step - loss: 0.0011:\n",
      "Epoch 33/100\n",
      "140/140 [==============================] - 8s 60ms/step - loss: 9.8632e-04\n",
      "Epoch 34/100\n",
      "140/140 [==============================] - 8s 60ms/step - loss: 9.0370e-04\n",
      "Epoch 35/100\n",
      "140/140 [==============================] - 9s 61ms/step - loss: 8.3210e-04\n",
      "Epoch 36/100\n",
      "140/140 [==============================] - 9s 61ms/step - loss: 7.7987e-04\n",
      "Epoch 37/100\n",
      "140/140 [==============================] - 9s 61ms/step - loss: 7.5420e-04\n",
      "Epoch 38/100\n",
      "140/140 [==============================] - 9s 62ms/step - loss: 6.3788e-04\n",
      "Epoch 39/100\n",
      "140/140 [==============================] - 9s 61ms/step - loss: 6.2539e-04\n",
      "Epoch 40/100\n",
      "140/140 [==============================] - 9s 62ms/step - loss: 5.4815e-04\n",
      "Epoch 41/100\n",
      "140/140 [==============================] - 9s 62ms/step - loss: 5.1390e-04\n",
      "Epoch 42/100\n",
      "140/140 [==============================] - 9s 62ms/step - loss: 4.6645e-04\n",
      "Epoch 43/100\n",
      "140/140 [==============================] - 9s 61ms/step - loss: 4.7111e-04\n",
      "Epoch 44/100\n",
      "140/140 [==============================] - 9s 62ms/step - loss: 3.7884e-04\n",
      "Epoch 45/100\n",
      "140/140 [==============================] - 9s 62ms/step - loss: 3.4331e-04\n",
      "Epoch 46/100\n",
      "140/140 [==============================] - 9s 62ms/step - loss: 3.2530e-04\n",
      "Epoch 47/100\n",
      "140/140 [==============================] - 9s 61ms/step - loss: 3.2907e-04\n",
      "Epoch 48/100\n",
      "140/140 [==============================] - 9s 62ms/step - loss: 2.7031e-04\n",
      "Epoch 49/100\n",
      "140/140 [==============================] - 9s 62ms/step - loss: 2.5806e-04\n",
      "Epoch 50/100\n",
      "140/140 [==============================] - 9s 61ms/step - loss: 2.4233e-04\n",
      "Epoch 51/100\n",
      "140/140 [==============================] - 9s 62ms/step - loss: 2.1721e-04\n",
      "Epoch 52/100\n",
      "140/140 [==============================] - 9s 61ms/step - loss: 2.2054e-04\n",
      "Epoch 53/100\n",
      "140/140 [==============================] - 9s 62ms/step - loss: 2.3003e-04\n",
      "Epoch 54/100\n",
      "140/140 [==============================] - 9s 61ms/step - loss: 2.0200e-04\n",
      "Epoch 55/100\n",
      "140/140 [==============================] - 9s 61ms/step - loss: 1.8382e-04\n",
      "Epoch 56/100\n",
      "140/140 [==============================] - 9s 64ms/step - loss: 1.8057e-04\n",
      "Epoch 57/100\n",
      "140/140 [==============================] - 9s 61ms/step - loss: 1.9995e-04\n",
      "Epoch 58/100\n",
      "140/140 [==============================] - 9s 61ms/step - loss: 1.6268e-04\n",
      "Epoch 59/100\n",
      "140/140 [==============================] - 8s 61ms/step - loss: 1.5743e-04\n",
      "Epoch 60/100\n",
      "140/140 [==============================] - 8s 60ms/step - loss: 1.5234e-04\n",
      "Epoch 61/100\n",
      "140/140 [==============================] - 9s 61ms/step - loss: 1.9928e-04\n",
      "Epoch 62/100\n",
      "140/140 [==============================] - 9s 62ms/step - loss: 2.5443e-04\n",
      "Epoch 63/100\n",
      "140/140 [==============================] - 9s 61ms/step - loss: 1.8447e-04\n",
      "Epoch 64/100\n",
      "140/140 [==============================] - 9s 61ms/step - loss: 1.5611e-04\n",
      "Epoch 65/100\n",
      "140/140 [==============================] - 9s 61ms/step - loss: 1.6706e-04\n",
      "Epoch 66/100\n",
      "140/140 [==============================] - 9s 62ms/step - loss: 1.6137e-04\n",
      "Epoch 67/100\n",
      "140/140 [==============================] - 9s 62ms/step - loss: 1.4328e-04\n",
      "Epoch 68/100\n",
      "140/140 [==============================] - 9s 61ms/step - loss: 1.4335e-04\n",
      "Epoch 69/100\n",
      "140/140 [==============================] - 9s 62ms/step - loss: 1.5752e-04\n",
      "Epoch 70/100\n",
      "140/140 [==============================] - 9s 61ms/step - loss: 1.3011e-04: 4s\n",
      "Epoch 71/100\n",
      "140/140 [==============================] - 8s 61ms/step - loss: 1.2509e-04\n",
      "Epoch 72/100\n",
      "140/140 [==============================] - 8s 61ms/step - loss: 1.1383e-04\n",
      "Epoch 73/100\n",
      "140/140 [==============================] - 9s 61ms/step - loss: 1.3367e-04\n",
      "Epoch 74/100\n",
      "140/140 [==============================] - 8s 61ms/step - loss: 1.8026e-04\n",
      "Epoch 75/100\n",
      "140/140 [==============================] - 9s 61ms/step - loss: 1.1966e-04\n",
      "Epoch 76/100\n",
      "140/140 [==============================] - 9s 62ms/step - loss: 1.1041e-04\n",
      "Epoch 77/100\n",
      "140/140 [==============================] - 9s 62ms/step - loss: 1.2708e-04\n",
      "Epoch 78/100\n",
      "140/140 [==============================] - 9s 61ms/step - loss: 1.2968e-04\n",
      "Epoch 79/100\n",
      "140/140 [==============================] - 9s 61ms/step - loss: 1.1236e-04\n",
      "Epoch 80/100\n",
      "140/140 [==============================] - 9s 62ms/step - loss: 1.2822e-04\n",
      "Epoch 81/100\n",
      "140/140 [==============================] - 9s 62ms/step - loss: 1.2359e-04\n",
      "Epoch 82/100\n",
      "140/140 [==============================] - 9s 62ms/step - loss: 1.3738e-04\n",
      "Epoch 83/100\n",
      "140/140 [==============================] - 9s 61ms/step - loss: 1.2542e-04\n",
      "Epoch 84/100\n",
      "140/140 [==============================] - 9s 62ms/step - loss: 1.0407e-04\n",
      "Epoch 85/100\n",
      "140/140 [==============================] - 9s 61ms/step - loss: 1.3011e-04\n",
      "Epoch 86/100\n",
      "140/140 [==============================] - 9s 61ms/step - loss: 1.3311e-04\n",
      "Epoch 87/100\n",
      "140/140 [==============================] - 9s 62ms/step - loss: 1.0200e-04\n",
      "Epoch 88/100\n",
      "140/140 [==============================] - 9s 62ms/step - loss: 1.1480e-04\n",
      "Epoch 89/100\n",
      "140/140 [==============================] - 9s 61ms/step - loss: 1.2327e-04\n",
      "Epoch 90/100\n",
      "140/140 [==============================] - 9s 61ms/step - loss: 1.1602e-04\n",
      "Epoch 91/100\n",
      "140/140 [==============================] - 9s 62ms/step - loss: 1.0956e-04\n",
      "Epoch 92/100\n",
      "140/140 [==============================] - 9s 62ms/step - loss: 1.2384e-04\n",
      "Epoch 93/100\n",
      "140/140 [==============================] - 9s 61ms/step - loss: 1.6040e-04\n",
      "Epoch 94/100\n",
      "140/140 [==============================] - 9s 61ms/step - loss: 1.0887e-04\n",
      "Epoch 95/100\n"
     ]
    },
    {
     "name": "stdout",
     "output_type": "stream",
     "text": [
      "140/140 [==============================] - 9s 63ms/step - loss: 1.0644e-04\n",
      "Epoch 96/100\n",
      "140/140 [==============================] - 9s 62ms/step - loss: 1.1567e-04\n",
      "Epoch 97/100\n",
      "140/140 [==============================] - 9s 62ms/step - loss: 1.5482e-04\n",
      "Epoch 98/100\n",
      "140/140 [==============================] - 9s 62ms/step - loss: 9.8465e-05\n",
      "Epoch 99/100\n",
      "140/140 [==============================] - 9s 62ms/step - loss: 1.2212e-04\n",
      "Epoch 100/100\n",
      "140/140 [==============================] - 9s 61ms/step - loss: 1.2251e-04\n"
     ]
    }
   ],
   "source": [
    "history_30s = Frac_LSTM.fit(X_train_30s, y_train_30s, epochs = 100, batch_size = 32, shuffle = True)"
   ]
  },
  {
   "cell_type": "code",
   "execution_count": null,
   "metadata": {},
   "outputs": [],
   "source": [
    "Frac_LSTM_60s = Sequential()\n",
    "Frac_LSTM_60s.add(LSTM(units = 200, activation = 'relu', return_sequences = True, input_shape = (X_train_60s.shape[1], 3)))\n",
    "Frac_LSTM_60s.add(Dropout(0.3))\n",
    "Frac_LSTM_60s.add(LSTM(units = 200, activation = 'relu', return_sequences = True))\n",
    "Frac_LSTM_60s.add(Dropout(0.3))\n",
    "Frac_LSTM_60s.add(LSTM(units = 200, activation = 'relu'))\n",
    "Frac_LSTM_60s.add(Dropout(0.3))\n",
    "Frac_LSTM_60s.add(Dense(units=1))\n",
    "\n",
    "Frac_LSTM_60s.compile(optimizer='adam', loss='mean_squared_error')"
   ]
  },
  {
   "cell_type": "code",
   "execution_count": null,
   "metadata": {},
   "outputs": [],
   "source": [
    "history_60s = Frac_LSTM.fit(X_train_60s, y_train_60s, epochs = 100, batch_size = 32, shuffle = True)"
   ]
  },
  {
   "cell_type": "code",
   "execution_count": null,
   "metadata": {},
   "outputs": [],
   "source": [
    "Frac_LSTM_60s = Sequential()\n",
    "Frac_LSTM_60s.add(LSTM(units = 200, activation = 'relu', return_sequences = True, input_shape = (X_train_60s.shape[1], 3)))\n",
    "Frac_LSTM_60s.add(Dropout(0.3))\n",
    "Frac_LSTM_60s.add(LSTM(units = 200, activation = 'relu', return_sequences = True))\n",
    "Frac_LSTM_60s.add(Dropout(0.3))\n",
    "Frac_LSTM_60s.add(LSTM(units = 200, activation = 'relu'))\n",
    "Frac_LSTM_60s.add(Dropout(0.3))\n",
    "Frac_LSTM_60s.add(Dense(units=1))\n",
    "\n",
    "Frac_LSTM_60s.compile(optimizer='adam', loss='mean_squared_error')"
   ]
  },
  {
   "cell_type": "code",
   "execution_count": null,
   "metadata": {},
   "outputs": [],
   "source": [
    "history_90s = Frac_LSTM.fit(X_train_90s, y_train_90s, epochs = 100, batch_size = 32, shuffle = True)"
   ]
  },
  {
   "cell_type": "code",
   "execution_count": null,
   "metadata": {},
   "outputs": [],
   "source": [
    "history_180s = Frac_LSTM.fit(X_train_180s, y_train_180s, epochs = 100, batch_size = 32, shuffle = True)"
   ]
  },
  {
   "cell_type": "code",
   "execution_count": 54,
   "metadata": {},
   "outputs": [
    {
     "data": {
      "text/html": [
       "<div>\n",
       "<style scoped>\n",
       "    .dataframe tbody tr th:only-of-type {\n",
       "        vertical-align: middle;\n",
       "    }\n",
       "\n",
       "    .dataframe tbody tr th {\n",
       "        vertical-align: top;\n",
       "    }\n",
       "\n",
       "    .dataframe thead th {\n",
       "        text-align: right;\n",
       "    }\n",
       "</style>\n",
       "<table border=\"1\" class=\"dataframe\">\n",
       "  <thead>\n",
       "    <tr style=\"text-align: right;\">\n",
       "      <th></th>\n",
       "      <th>Time</th>\n",
       "      <th>SLUR RATE</th>\n",
       "      <th>PROP CON</th>\n",
       "      <th>TR PRESS</th>\n",
       "    </tr>\n",
       "  </thead>\n",
       "  <tbody>\n",
       "    <tr>\n",
       "      <th>0</th>\n",
       "      <td>4441</td>\n",
       "      <td>99.6</td>\n",
       "      <td>2.0</td>\n",
       "      <td>8058.0</td>\n",
       "    </tr>\n",
       "    <tr>\n",
       "      <th>1</th>\n",
       "      <td>4442</td>\n",
       "      <td>99.6</td>\n",
       "      <td>2.0</td>\n",
       "      <td>8067.0</td>\n",
       "    </tr>\n",
       "    <tr>\n",
       "      <th>2</th>\n",
       "      <td>4443</td>\n",
       "      <td>99.7</td>\n",
       "      <td>2.0</td>\n",
       "      <td>8057.0</td>\n",
       "    </tr>\n",
       "    <tr>\n",
       "      <th>3</th>\n",
       "      <td>4444</td>\n",
       "      <td>99.5</td>\n",
       "      <td>2.0</td>\n",
       "      <td>8062.0</td>\n",
       "    </tr>\n",
       "    <tr>\n",
       "      <th>4</th>\n",
       "      <td>4445</td>\n",
       "      <td>99.6</td>\n",
       "      <td>2.0</td>\n",
       "      <td>8056.0</td>\n",
       "    </tr>\n",
       "  </tbody>\n",
       "</table>\n",
       "</div>"
      ],
      "text/plain": [
       "   Time  SLUR RATE  PROP CON  TR PRESS\n",
       "0  4441       99.6       2.0    8058.0\n",
       "1  4442       99.6       2.0    8067.0\n",
       "2  4443       99.7       2.0    8057.0\n",
       "3  4444       99.5       2.0    8062.0\n",
       "4  4445       99.6       2.0    8056.0"
      ]
     },
     "execution_count": 54,
     "metadata": {},
     "output_type": "execute_result"
    }
   ],
   "source": [
    "past_60_secs = data_training.tail(60)\n",
    "\n",
    "data = past_60_secs.append(data_testing, ignore_index = True)\n",
    "data.head()"
   ]
  },
  {
   "cell_type": "code",
   "execution_count": 55,
   "metadata": {},
   "outputs": [
    {
     "data": {
      "text/html": [
       "<div>\n",
       "<style scoped>\n",
       "    .dataframe tbody tr th:only-of-type {\n",
       "        vertical-align: middle;\n",
       "    }\n",
       "\n",
       "    .dataframe tbody tr th {\n",
       "        vertical-align: top;\n",
       "    }\n",
       "\n",
       "    .dataframe thead th {\n",
       "        text-align: right;\n",
       "    }\n",
       "</style>\n",
       "<table border=\"1\" class=\"dataframe\">\n",
       "  <thead>\n",
       "    <tr style=\"text-align: right;\">\n",
       "      <th></th>\n",
       "      <th>SLUR RATE</th>\n",
       "      <th>PROP CON</th>\n",
       "      <th>TR PRESS</th>\n",
       "    </tr>\n",
       "  </thead>\n",
       "  <tbody>\n",
       "    <tr>\n",
       "      <th>count</th>\n",
       "      <td>312.000000</td>\n",
       "      <td>312.000000</td>\n",
       "      <td>312.00000</td>\n",
       "    </tr>\n",
       "    <tr>\n",
       "      <th>mean</th>\n",
       "      <td>100.117308</td>\n",
       "      <td>2.220833</td>\n",
       "      <td>8092.58262</td>\n",
       "    </tr>\n",
       "    <tr>\n",
       "      <th>std</th>\n",
       "      <td>0.270206</td>\n",
       "      <td>0.852035</td>\n",
       "      <td>29.00977</td>\n",
       "    </tr>\n",
       "    <tr>\n",
       "      <th>min</th>\n",
       "      <td>99.500000</td>\n",
       "      <td>0.000000</td>\n",
       "      <td>8047.00000</td>\n",
       "    </tr>\n",
       "    <tr>\n",
       "      <th>25%</th>\n",
       "      <td>99.900000</td>\n",
       "      <td>2.000000</td>\n",
       "      <td>8070.00000</td>\n",
       "    </tr>\n",
       "    <tr>\n",
       "      <th>50%</th>\n",
       "      <td>100.100000</td>\n",
       "      <td>2.500000</td>\n",
       "      <td>8088.50000</td>\n",
       "    </tr>\n",
       "    <tr>\n",
       "      <th>75%</th>\n",
       "      <td>100.300000</td>\n",
       "      <td>3.000000</td>\n",
       "      <td>8112.25000</td>\n",
       "    </tr>\n",
       "    <tr>\n",
       "      <th>max</th>\n",
       "      <td>100.900000</td>\n",
       "      <td>3.500000</td>\n",
       "      <td>8230.50000</td>\n",
       "    </tr>\n",
       "  </tbody>\n",
       "</table>\n",
       "</div>"
      ],
      "text/plain": [
       "        SLUR RATE    PROP CON    TR PRESS\n",
       "count  312.000000  312.000000   312.00000\n",
       "mean   100.117308    2.220833  8092.58262\n",
       "std      0.270206    0.852035    29.00977\n",
       "min     99.500000    0.000000  8047.00000\n",
       "25%     99.900000    2.000000  8070.00000\n",
       "50%    100.100000    2.500000  8088.50000\n",
       "75%    100.300000    3.000000  8112.25000\n",
       "max    100.900000    3.500000  8230.50000"
      ]
     },
     "execution_count": 55,
     "metadata": {},
     "output_type": "execute_result"
    }
   ],
   "source": [
    "data = data.drop(['Time'], axis = 1)\n",
    "data.describe()"
   ]
  },
  {
   "cell_type": "code",
   "execution_count": 56,
   "metadata": {},
   "outputs": [],
   "source": [
    "testing_inputs = scaler.transform(data)"
   ]
  },
  {
   "cell_type": "code",
   "execution_count": null,
   "metadata": {},
   "outputs": [],
   "source": [
    "X_test = []\n",
    "y_test = []\n",
    "\n",
    "for i in range(60, testing_inputs.shape[0]):\n",
    "    X_test.append(testing_inputs[i - 60:])"
   ]
  },
  {
   "cell_type": "markdown",
   "metadata": {},
   "source": [
    "### Key findings"
   ]
  },
  {
   "cell_type": "code",
   "execution_count": null,
   "metadata": {},
   "outputs": [],
   "source": []
  },
  {
   "cell_type": "code",
   "execution_count": null,
   "metadata": {},
   "outputs": [],
   "source": []
  },
  {
   "cell_type": "markdown",
   "metadata": {},
   "source": [
    "### Plans and Next Steps"
   ]
  },
  {
   "cell_type": "code",
   "execution_count": null,
   "metadata": {},
   "outputs": [],
   "source": []
  }
 ],
 "metadata": {
  "kernelspec": {
   "display_name": "Python 3",
   "language": "python",
   "name": "python3"
  },
  "language_info": {
   "codemirror_mode": {
    "name": "ipython",
    "version": 3
   },
   "file_extension": ".py",
   "mimetype": "text/x-python",
   "name": "python",
   "nbconvert_exporter": "python",
   "pygments_lexer": "ipython3",
   "version": "3.8.5"
  }
 },
 "nbformat": 4,
 "nbformat_minor": 4
}
