{
 "cells": [
  {
   "cell_type": "markdown",
   "metadata": {},
   "source": [
    "### Data Description\n",
    "\n",
    "The dataset has 4 main columns\n",
    "\n",
    "1. Time in seconds\n",
    "2. Slurry rate (bpm, barrels per minute)\n",
    "3. Proppant concentration (ppg, pounds per gallon)\n",
    "4. Treating pressure (PSI)"
   ]
  },
  {
   "cell_type": "markdown",
   "metadata": {},
   "source": [
    "### Objectives\n",
    "\n",
    "Build an LSTM Model to use the last 60 seconds of slurry rate and proppant concentration data to predict treatment pressure for the next second, for example the first 60 seconds of data will be used to predict the next second (61st) and so on."
   ]
  },
  {
   "cell_type": "code",
   "execution_count": 23,
   "metadata": {},
   "outputs": [],
   "source": [
    "import numpy as np\n",
    "import pandas as pd\n",
    "import matplotlib.pyplot as plt\n",
    "from sklearn.preprocessing import MinMaxScaler\n",
    "%matplotlib inline"
   ]
  },
  {
   "cell_type": "code",
   "execution_count": 26,
   "metadata": {},
   "outputs": [],
   "source": [
    "data = pd.read_excel('Frac_Stage_Data.xlsx')"
   ]
  },
  {
   "cell_type": "code",
   "execution_count": 27,
   "metadata": {},
   "outputs": [
    {
     "data": {
      "text/html": [
       "<div>\n",
       "<style scoped>\n",
       "    .dataframe tbody tr th:only-of-type {\n",
       "        vertical-align: middle;\n",
       "    }\n",
       "\n",
       "    .dataframe tbody tr th {\n",
       "        vertical-align: top;\n",
       "    }\n",
       "\n",
       "    .dataframe thead th {\n",
       "        text-align: right;\n",
       "    }\n",
       "</style>\n",
       "<table border=\"1\" class=\"dataframe\">\n",
       "  <thead>\n",
       "    <tr style=\"text-align: right;\">\n",
       "      <th></th>\n",
       "      <th>Time</th>\n",
       "      <th>SLUR RATE</th>\n",
       "      <th>PROP CON</th>\n",
       "      <th>TR PRESS</th>\n",
       "    </tr>\n",
       "  </thead>\n",
       "  <tbody>\n",
       "    <tr>\n",
       "      <th>0</th>\n",
       "      <td>1</td>\n",
       "      <td>49.4</td>\n",
       "      <td>0.0</td>\n",
       "      <td>8560</td>\n",
       "    </tr>\n",
       "    <tr>\n",
       "      <th>1</th>\n",
       "      <td>2</td>\n",
       "      <td>50.1</td>\n",
       "      <td>0.0</td>\n",
       "      <td>8537</td>\n",
       "    </tr>\n",
       "    <tr>\n",
       "      <th>2</th>\n",
       "      <td>3</td>\n",
       "      <td>50.1</td>\n",
       "      <td>0.0</td>\n",
       "      <td>8534</td>\n",
       "    </tr>\n",
       "    <tr>\n",
       "      <th>3</th>\n",
       "      <td>4</td>\n",
       "      <td>49.3</td>\n",
       "      <td>0.0</td>\n",
       "      <td>8617</td>\n",
       "    </tr>\n",
       "    <tr>\n",
       "      <th>4</th>\n",
       "      <td>5</td>\n",
       "      <td>49.2</td>\n",
       "      <td>0.0</td>\n",
       "      <td>8646</td>\n",
       "    </tr>\n",
       "  </tbody>\n",
       "</table>\n",
       "</div>"
      ],
      "text/plain": [
       "   Time  SLUR RATE  PROP CON  TR PRESS\n",
       "0     1       49.4       0.0      8560\n",
       "1     2       50.1       0.0      8537\n",
       "2     3       50.1       0.0      8534\n",
       "3     4       49.3       0.0      8617\n",
       "4     5       49.2       0.0      8646"
      ]
     },
     "execution_count": 27,
     "metadata": {},
     "output_type": "execute_result"
    }
   ],
   "source": [
    "data.head()"
   ]
  },
  {
   "cell_type": "code",
   "execution_count": 5,
   "metadata": {},
   "outputs": [
    {
     "data": {
      "text/plain": [
       "Text(0, 0.5, 'Slurry Rate (bpm)')"
      ]
     },
     "execution_count": 5,
     "metadata": {},
     "output_type": "execute_result"
    },
    {
     "data": {
      "image/png": "[encoded data removed]",
      "text/plain": [
       "<Figure size 1080x576 with 2 Axes>"
      ]
     },
     "metadata": {
      "needs_background": "light"
     },
     "output_type": "display_data"
    },
    {
     "data": {
      "text/plain": [
       "<Figure size 1080x576 with 0 Axes>"
      ]
     },
     "metadata": {},
     "output_type": "display_data"
    }
   ],
   "source": [
    "## Plotting the surface treating pressure and slurry rate\n",
    "\n",
    "_, ax1 = plt.subplots(figsize = (15, 8))\n",
    "plt.figure(figsize = (15, 8))\n",
    "ax2 = ax1.twinx()\n",
    "\n",
    "ax1.plot(data['Time'], data['TR PRESS'], 'b')\n",
    "ax2.plot(data['Time'], data['SLUR RATE'], 'g')\n",
    "ax1.set_xlabel('Time (seconds)')\n",
    "ax1.set_ylabel('Surface Treating Pressure (PSI)', color = 'b')\n",
    "ax2.set_ylabel('Slurry Rate (bpm)', color = 'g')"
   ]
  },
  {
   "cell_type": "code",
   "execution_count": 10,
   "metadata": {},
   "outputs": [],
   "source": [
    "'''\n",
    "Creating the training and test splits:\n",
    "    First 4500s for Training\n",
    "    Second 100s for Testing\n",
    "'''\n",
    "\n",
    "## Creating the training split\n",
    "\n",
    "start_time = 1\n",
    "end_time = 4500\n",
    "\n",
    "filter = (data['Time'] > start_time) & (data['Time'] <= end_time)\n",
    "data_training = data.loc[filter].copy()\n",
    "\n",
    "\n",
    "## Creating the test split\n",
    "\n",
    "start_time2 = 4500\n",
    "end_time2 = 4600\n",
    "\n",
    "filter = (data['Time'] > start_time2) & (data['Time'] <= end_time2)\n",
    "data_testing = data.loc[filter].copy()"
   ]
  },
  {
   "cell_type": "code",
   "execution_count": 11,
   "metadata": {},
   "outputs": [],
   "source": [
    "training_data = data_training.drop(['Time'], axis = 1)\n",
    "\n",
    "scaler = MinMaxScaler()\n",
    "training_data = scaler.fit_transform(training_data)"
   ]
  },
  {
   "cell_type": "code",
   "execution_count": 12,
   "metadata": {},
   "outputs": [],
   "source": [
    "X_train = []\n",
    "y_train = []\n",
    "\n",
    "for i in range(60, training_data.shape[0]):\n",
    "    X_train.append(training_data[i-60:i])\n",
    "    y_train.append(training_data[i, 0])"
   ]
  },
  {
   "cell_type": "code",
   "execution_count": 13,
   "metadata": {},
   "outputs": [],
   "source": [
    "## Transforming the data into 3d format to be fed to the LSTM Model\n",
    "\n",
    "X_train, y_train = np.array(X_train), np.array(y_train)"
   ]
  },
  {
   "cell_type": "code",
   "execution_count": 16,
   "metadata": {},
   "outputs": [
    {
     "data": {
      "text/plain": [
       "(4439,)"
      ]
     },
     "execution_count": 16,
     "metadata": {},
     "output_type": "execute_result"
    }
   ],
   "source": [
    "y_train.shape"
   ]
  },
  {
   "cell_type": "markdown",
   "metadata": {},
   "source": [
    "### LSTM Model"
   ]
  },
  {
   "cell_type": "code",
   "execution_count": 18,
   "metadata": {},
   "outputs": [],
   "source": [
    "from tensorflow.keras import Sequential\n",
    "from tensorflow.keras.layers import Dense, LSTM, Dropout\n",
    "import tensorflow as tf\n",
    "import random as python_random"
   ]
  },
  {
   "cell_type": "code",
   "execution_count": 19,
   "metadata": {},
   "outputs": [],
   "source": [
    "def reset_seeds():\n",
    "    np.random.seed(100)\n",
    "    python_random.seed(100)\n",
    "    tf.random.set_seed(100)\n",
    "reset_seeds()"
   ]
  },
  {
   "cell_type": "code",
   "execution_count": 20,
   "metadata": {},
   "outputs": [
    {
     "name": "stdout",
     "output_type": "stream",
     "text": [
      "Model: \"sequential\"\n",
      "_________________________________________________________________\n",
      "Layer (type)                 Output Shape              Param #   \n",
      "=================================================================\n",
      "lstm (LSTM)                  (None, 60, 200)           163200    \n",
      "_________________________________________________________________\n",
      "dropout (Dropout)            (None, 60, 200)           0         \n",
      "_________________________________________________________________\n",
      "lstm_1 (LSTM)                (None, 60, 200)           320800    \n",
      "_________________________________________________________________\n",
      "dropout_1 (Dropout)          (None, 60, 200)           0         \n",
      "_________________________________________________________________\n",
      "lstm_2 (LSTM)                (None, 200)               320800    \n",
      "_________________________________________________________________\n",
      "dropout_2 (Dropout)          (None, 200)               0         \n",
      "_________________________________________________________________\n",
      "dense (Dense)                (None, 1)                 201       \n",
      "=================================================================\n",
      "Total params: 805,001\n",
      "Trainable params: 805,001\n",
      "Non-trainable params: 0\n",
      "_________________________________________________________________\n"
     ]
    }
   ],
   "source": [
    "Frac_LSTM = Sequential()\n",
    "Frac_LSTM.add(LSTM(units = 200, activation = 'relu', return_sequences = True, input_shape = (X_train.shape[1], 3)))\n",
    "Frac_LSTM.add(Dropout(0.3))\n",
    "Frac_LSTM.add(LSTM(units = 200, activation = 'relu', return_sequences = True))\n",
    "Frac_LSTM.add(Dropout(0.3))\n",
    "Frac_LSTM.add(LSTM(units = 200, activation = 'relu'))\n",
    "Frac_LSTM.add(Dropout(0.3))\n",
    "Frac_LSTM.add(Dense(units=1))\n",
    "\n",
    "Frac_LSTM.summary()"
   ]
  },
  {
   "cell_type": "code",
   "execution_count": 21,
   "metadata": {},
   "outputs": [],
   "source": [
    "Frac_LSTM.compile(optimizer='adam', loss='mean_squared_error')"
   ]
  },
  {
   "cell_type": "code",
   "execution_count": 22,
   "metadata": {},
   "outputs": [
    {
     "name": "stdout",
     "output_type": "stream",
     "text": [
      "Epoch 1/100\n",
      "139/139 [==============================] - 20s 127ms/step - loss: 0.2484\n",
      "Epoch 2/100\n",
      "139/139 [==============================] - 17s 126ms/step - loss: 0.0077\n",
      "Epoch 3/100\n",
      "139/139 [==============================] - 18s 131ms/step - loss: 0.0069\n",
      "Epoch 4/100\n",
      "139/139 [==============================] - 17s 123ms/step - loss: 0.0059\n",
      "Epoch 5/100\n",
      "139/139 [==============================] - 19s 135ms/step - loss: 0.0059\n",
      "Epoch 6/100\n",
      "139/139 [==============================] - 17s 125ms/step - loss: 0.0050\n",
      "Epoch 7/100\n",
      "139/139 [==============================] - 16s 117ms/step - loss: 0.0053\n",
      "Epoch 8/100\n",
      "139/139 [==============================] - 17s 125ms/step - loss: 0.0049\n",
      "Epoch 9/100\n",
      "139/139 [==============================] - 17s 124ms/step - loss: 0.0048\n",
      "Epoch 10/100\n",
      "139/139 [==============================] - 17s 121ms/step - loss: 0.0042\n",
      "Epoch 11/100\n",
      "139/139 [==============================] - 17s 122ms/step - loss: 0.0045\n",
      "Epoch 12/100\n",
      "139/139 [==============================] - 17s 124ms/step - loss: 0.0044\n",
      "Epoch 13/100\n",
      "139/139 [==============================] - 17s 124ms/step - loss: 0.0040\n",
      "Epoch 14/100\n",
      "139/139 [==============================] - 17s 122ms/step - loss: 0.0041\n",
      "Epoch 15/100\n",
      "139/139 [==============================] - 18s 128ms/step - loss: 0.0041\n",
      "Epoch 16/100\n",
      "139/139 [==============================] - 18s 128ms/step - loss: 0.0035\n",
      "Epoch 17/100\n",
      "139/139 [==============================] - 18s 128ms/step - loss: 0.0036\n",
      "Epoch 18/100\n",
      "139/139 [==============================] - 18s 130ms/step - loss: 0.0035\n",
      "Epoch 19/100\n",
      "139/139 [==============================] - 18s 126ms/step - loss: 0.0032\n",
      "Epoch 20/100\n",
      "139/139 [==============================] - 19s 140ms/step - loss: 0.0033\n",
      "Epoch 21/100\n",
      "139/139 [==============================] - 20s 144ms/step - loss: 0.0031\n",
      "Epoch 22/100\n",
      "139/139 [==============================] - 19s 135ms/step - loss: 0.0029\n",
      "Epoch 23/100\n",
      "139/139 [==============================] - 20s 145ms/step - loss: 0.0029\n",
      "Epoch 24/100\n",
      "139/139 [==============================] - 19s 138ms/step - loss: 0.0026\n",
      "Epoch 25/100\n",
      "139/139 [==============================] - 19s 137ms/step - loss: 0.0025\n",
      "Epoch 26/100\n",
      "139/139 [==============================] - 19s 137ms/step - loss: 0.0025\n",
      "Epoch 27/100\n",
      "139/139 [==============================] - 19s 138ms/step - loss: 0.0023\n",
      "Epoch 28/100\n",
      "139/139 [==============================] - 19s 134ms/step - loss: 0.0020\n",
      "Epoch 29/100\n",
      "139/139 [==============================] - 20s 145ms/step - loss: 0.0021\n",
      "Epoch 30/100\n",
      "139/139 [==============================] - 20s 143ms/step - loss: 0.0019\n",
      "Epoch 31/100\n",
      "139/139 [==============================] - 21s 148ms/step - loss: 0.0018\n",
      "Epoch 32/100\n",
      "139/139 [==============================] - 21s 148ms/step - loss: 0.0017\n",
      "Epoch 33/100\n",
      "139/139 [==============================] - 19s 139ms/step - loss: 0.0016\n",
      "Epoch 34/100\n",
      "139/139 [==============================] - 21s 150ms/step - loss: 0.0015\n",
      "Epoch 35/100\n",
      "139/139 [==============================] - 21s 151ms/step - loss: 0.0014\n",
      "Epoch 36/100\n",
      "139/139 [==============================] - 22s 160ms/step - loss: 0.0012\n",
      "Epoch 37/100\n",
      "139/139 [==============================] - 20s 141ms/step - loss: 0.0012\n",
      "Epoch 38/100\n",
      "139/139 [==============================] - 20s 145ms/step - loss: 0.0012\n",
      "Epoch 39/100\n",
      "139/139 [==============================] - 19s 137ms/step - loss: 0.0011\n",
      "Epoch 40/100\n",
      "139/139 [==============================] - 20s 146ms/step - loss: 9.4648e-04\n",
      "Epoch 41/100\n",
      "139/139 [==============================] - 19s 135ms/step - loss: 8.5664e-04\n",
      "Epoch 42/100\n",
      "139/139 [==============================] - 19s 134ms/step - loss: 8.0372e-04\n",
      "Epoch 43/100\n",
      "139/139 [==============================] - 19s 135ms/step - loss: 7.4459e-04\n",
      "Epoch 44/100\n",
      "139/139 [==============================] - 19s 135ms/step - loss: 7.1207e-04\n",
      "Epoch 45/100\n",
      "139/139 [==============================] - 19s 135ms/step - loss: 6.6616e-04\n",
      "Epoch 46/100\n",
      "139/139 [==============================] - 19s 134ms/step - loss: 6.0423e-04\n",
      "Epoch 47/100\n",
      "139/139 [==============================] - 19s 135ms/step - loss: 5.7705e-04\n",
      "Epoch 48/100\n",
      "139/139 [==============================] - 19s 139ms/step - loss: 6.1708e-04\n",
      "Epoch 49/100\n",
      "139/139 [==============================] - 19s 135ms/step - loss: 4.7273e-04\n",
      "Epoch 50/100\n",
      "139/139 [==============================] - 19s 134ms/step - loss: 4.4300e-04\n",
      "Epoch 51/100\n",
      "139/139 [==============================] - 19s 140ms/step - loss: 4.2060e-04\n",
      "Epoch 52/100\n",
      "139/139 [==============================] - 20s 142ms/step - loss: 3.9036e-04\n",
      "Epoch 53/100\n",
      "139/139 [==============================] - 19s 134ms/step - loss: 3.8253e-04\n",
      "Epoch 54/100\n",
      "139/139 [==============================] - 19s 136ms/step - loss: 3.8061e-04\n",
      "Epoch 55/100\n",
      "139/139 [==============================] - 19s 135ms/step - loss: 3.8806e-04\n",
      "Epoch 56/100\n",
      "139/139 [==============================] - 19s 134ms/step - loss: 3.6318e-04\n",
      "Epoch 57/100\n",
      "139/139 [==============================] - 19s 134ms/step - loss: 3.6776e-04\n",
      "Epoch 58/100\n",
      "139/139 [==============================] - 19s 137ms/step - loss: 3.0102e-04\n",
      "Epoch 59/100\n",
      "139/139 [==============================] - 19s 136ms/step - loss: 3.1041e-04\n",
      "Epoch 60/100\n",
      "139/139 [==============================] - 19s 136ms/step - loss: 2.8614e-04\n",
      "Epoch 61/100\n",
      "139/139 [==============================] - 19s 137ms/step - loss: 2.7673e-04\n",
      "Epoch 62/100\n",
      "139/139 [==============================] - 19s 134ms/step - loss: 3.0030e-04\n",
      "Epoch 63/100\n",
      "139/139 [==============================] - 19s 136ms/step - loss: 2.6345e-04\n",
      "Epoch 64/100\n",
      "139/139 [==============================] - 19s 135ms/step - loss: 2.6942e-04\n",
      "Epoch 65/100\n",
      "139/139 [==============================] - 19s 133ms/step - loss: 2.8747e-04\n",
      "Epoch 66/100\n",
      "139/139 [==============================] - 19s 139ms/step - loss: 2.8123e-04\n",
      "Epoch 67/100\n",
      "139/139 [==============================] - 19s 135ms/step - loss: 3.3339e-04\n",
      "Epoch 68/100\n",
      "139/139 [==============================] - 19s 133ms/step - loss: 2.2756e-04\n",
      "Epoch 69/100\n",
      "139/139 [==============================] - 18s 131ms/step - loss: 1.8487e-04\n",
      "Epoch 70/100\n",
      "139/139 [==============================] - 19s 134ms/step - loss: 2.6449e-04\n",
      "Epoch 71/100\n",
      "139/139 [==============================] - 19s 135ms/step - loss: 2.3401e-04\n",
      "Epoch 72/100\n",
      "139/139 [==============================] - 19s 133ms/step - loss: 2.6334e-04\n",
      "Epoch 73/100\n",
      "139/139 [==============================] - 18s 131ms/step - loss: 1.9809e-04\n",
      "Epoch 74/100\n",
      "139/139 [==============================] - 18s 131ms/step - loss: 2.3614e-04\n",
      "Epoch 75/100\n",
      "139/139 [==============================] - 18s 133ms/step - loss: 3.0762e-04\n",
      "Epoch 76/100\n",
      "139/139 [==============================] - 19s 137ms/step - loss: 2.2027e-04\n",
      "Epoch 77/100\n",
      "139/139 [==============================] - 19s 137ms/step - loss: 2.5157e-04\n",
      "Epoch 78/100\n",
      "139/139 [==============================] - 19s 135ms/step - loss: 2.5002e-04\n",
      "Epoch 79/100\n",
      "139/139 [==============================] - 19s 136ms/step - loss: 1.9643e-04\n",
      "Epoch 80/100\n",
      "139/139 [==============================] - 19s 138ms/step - loss: 2.1827e-04\n",
      "Epoch 81/100\n",
      "139/139 [==============================] - 19s 137ms/step - loss: 1.9741e-04\n",
      "Epoch 82/100\n",
      "139/139 [==============================] - 19s 138ms/step - loss: 2.3914e-04\n",
      "Epoch 83/100\n",
      "139/139 [==============================] - 19s 135ms/step - loss: 1.7441e-04\n",
      "Epoch 84/100\n",
      "139/139 [==============================] - 19s 134ms/step - loss: 2.9389e-04\n",
      "Epoch 85/100\n",
      "139/139 [==============================] - 19s 134ms/step - loss: 1.9281e-04\n",
      "Epoch 86/100\n",
      "139/139 [==============================] - 20s 141ms/step - loss: 2.3322e-04\n",
      "Epoch 87/100\n",
      "139/139 [==============================] - 20s 145ms/step - loss: 2.1691e-04\n",
      "Epoch 88/100\n",
      "139/139 [==============================] - 19s 136ms/step - loss: 1.8406e-04\n",
      "Epoch 89/100\n",
      "139/139 [==============================] - 19s 138ms/step - loss: 2.0954e-04\n",
      "Epoch 90/100\n",
      "139/139 [==============================] - 20s 141ms/step - loss: 2.7226e-04\n",
      "Epoch 91/100\n",
      "139/139 [==============================] - 20s 143ms/step - loss: 3.2172e-04\n",
      "Epoch 92/100\n",
      "139/139 [==============================] - 19s 139ms/step - loss: 2.1798e-04\n",
      "Epoch 93/100\n"
     ]
    },
    {
     "name": "stdout",
     "output_type": "stream",
     "text": [
      "139/139 [==============================] - 20s 143ms/step - loss: 2.2617e-042s \n",
      "Epoch 94/100\n",
      "139/139 [==============================] - 19s 138ms/step - loss: 1.7500e-04\n",
      "Epoch 95/100\n",
      "139/139 [==============================] - 19s 137ms/step - loss: 2.2584e-04\n",
      "Epoch 96/100\n",
      "139/139 [==============================] - 19s 136ms/step - loss: 1.9948e-04\n",
      "Epoch 97/100\n",
      "139/139 [==============================] - 20s 146ms/step - loss: 1.6395e-04\n",
      "Epoch 98/100\n",
      "139/139 [==============================] - 21s 149ms/step - loss: 1.5114e-04\n",
      "Epoch 99/100\n",
      "139/139 [==============================] - 21s 149ms/step - loss: 2.4480e-04\n",
      "Epoch 100/100\n",
      "139/139 [==============================] - 21s 153ms/step - loss: 2.0184e-04\n"
     ]
    }
   ],
   "source": [
    "history = Frac_LSTM.fit(X_train, y_train, epochs = 100, batch_size = 32, shuffle = True)"
   ]
  },
  {
   "cell_type": "markdown",
   "metadata": {},
   "source": [
    "### Key findings"
   ]
  },
  {
   "cell_type": "code",
   "execution_count": null,
   "metadata": {},
   "outputs": [],
   "source": []
  },
  {
   "cell_type": "code",
   "execution_count": null,
   "metadata": {},
   "outputs": [],
   "source": []
  },
  {
   "cell_type": "markdown",
   "metadata": {},
   "source": [
    "### Plans and Next Steps"
   ]
  },
  {
   "cell_type": "code",
   "execution_count": null,
   "metadata": {},
   "outputs": [],
   "source": []
  }
 ],
 "metadata": {
  "kernelspec": {
   "display_name": "Python 3",
   "language": "python",
   "name": "python3"
  },
  "language_info": {
   "codemirror_mode": {
    "name": "ipython",
    "version": 3
   },
   "file_extension": ".py",
   "mimetype": "text/x-python",
   "name": "python",
   "nbconvert_exporter": "python",
   "pygments_lexer": "ipython3",
   "version": "3.8.5"
  }
 },
 "nbformat": 4,
 "nbformat_minor": 4
}
